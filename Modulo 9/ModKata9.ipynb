{
 "cells": [
  {
   "cell_type": "code",
   "execution_count": 7,
   "metadata": {},
   "outputs": [
    {
     "name": "stdout",
     "output_type": "stream",
     "text": [
      "14.666666666666666\n"
     ]
    }
   ],
   "source": [
    "# Función para leer 3 tanques de combustible y muestre el promedio\n",
    "\n",
    "def tanquesCombustible(tanque1,tanque2,tanque3):\n",
    "    promedio=(tanque1+tanque2+tanque3)/3\n",
    "    return promedio\n",
    "\n",
    "# Llamamos a la función que genera el reporte print(funcion(tanque1, tanque2, tanque3))\n",
    "# Función promedio \n",
    "\n",
    "def calculaPromedio():\n",
    "    print(tanquesCombustible(10,10,24))\n",
    "\n",
    "calculaPromedio()\n",
    "\n"
   ]
  },
  {
   "cell_type": "code",
   "execution_count": 20,
   "metadata": {},
   "outputs": [
    {
     "name": "stdout",
     "output_type": "stream",
     "text": [
      "\n",
      "    Misión a la Luna\n",
      "    Tiempo total viaje: 100 minutos\n",
      "    Gasolina total: 510000\n",
      "    \n",
      "\n",
      "    Misión a la Luna\n",
      "    Tiempo total viaje: 74 minutos\n",
      "    Gasolina total: 500000\n",
      "    tanquePrincipal : 300000 galones restantes\n",
      "tanqueSecundario : 200000 galones restantes\n",
      "\n"
     ]
    }
   ],
   "source": [
    "# Función con un informe preciso de la misión. Considera hora de prelanzamiento, tiempo de vuelo, destino, tanque externo y tanque interno\n",
    "\n",
    "def informeCohete(horaPrelanzamiento,tiempoVuelo,destino,tanqueExterno,tanqueInterno):\n",
    "    return horaPrelanzamiento,tiempoVuelo,destino,tanqueExterno,tanqueInterno\n",
    "\n",
    "#print(informeCohete(10,20,'Moon',100,70))\n",
    "\n",
    "# Escribe tu nueva función de reporte considerando lo anterior\n",
    "\n",
    "def informeCohete(destino, *tiempo, **reservaTanque):\n",
    "    return f\"\"\"\n",
    "    Misión a la {destino}\n",
    "    Tiempo total viaje: {sum(tiempo)} minutos\n",
    "    Gasolina total: {sum(reservaTanque.values())}\n",
    "    \"\"\"\n",
    "\n",
    "print(informeCohete(\"Luna\", 10, 20, 70, tanquePrincipal=10000, tanqueSecundario=500000))\n",
    "\n",
    "# Escribe tu nueva función\n",
    "\n",
    "def informeCohete(destino, *tiempo, **reservaTanque):\n",
    "    reporteCohete = f\"\"\"\n",
    "    Misión a la {destino}\n",
    "    Tiempo total viaje: {sum(tiempo)} minutos\n",
    "    Gasolina total: {sum(reservaTanque.values())}\n",
    "    \"\"\"\n",
    "    for nombreTanque, galones in reservaTanque.items():\n",
    "        reporteCohete += f\"{nombreTanque} : {galones} galones restantes\\n\"\n",
    "    return reporteCohete\n",
    "\n",
    "print(informeCohete(\"Luna\", 8, 11, 55, tanquePrincipal=300000,tanqueSecundario=200000))"
   ]
  }
 ],
 "metadata": {
  "interpreter": {
   "hash": "aee8b7b246df8f9039afb4144a1f6fd8d2ca17a180786b69acc140d282b71a49"
  },
  "kernelspec": {
   "display_name": "Python 3.10.2 64-bit",
   "language": "python",
   "name": "python3"
  },
  "language_info": {
   "codemirror_mode": {
    "name": "ipython",
    "version": 3
   },
   "file_extension": ".py",
   "mimetype": "text/x-python",
   "name": "python",
   "nbconvert_exporter": "python",
   "pygments_lexer": "ipython3",
   "version": "3.10.2"
  },
  "orig_nbformat": 4
 },
 "nbformat": 4,
 "nbformat_minor": 2
}

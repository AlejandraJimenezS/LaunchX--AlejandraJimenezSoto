{
 "cells": [
  {
   "cell_type": "code",
   "execution_count": 4,
   "metadata": {},
   "outputs": [
    {
     "name": "stdout",
     "output_type": "stream",
     "text": [
      "0\n",
      "1\n",
      "2\n",
      "3\n",
      "4\n",
      "5\n",
      "6\n",
      "7\n",
      "Pluton\n"
     ]
    }
   ],
   "source": [
    "# Creamos la lista planets y la mostramos\n",
    "\n",
    "planetas = ['Mercurio','Venus','Tierra','Marte','Jupiter','Saturno','Urano','Neptuno']\n",
    "\n",
    "# Agregamos a plutón y mostramos el último elemento\n",
    "\n",
    "for i in range (len(planetas)):\n",
    "    print(i)\n",
    "\n",
    "planetas.append('Pluton')\n",
    "print(planetas[8])"
   ]
  },
  {
   "cell_type": "code",
   "execution_count": 28,
   "metadata": {},
   "outputs": [
    {
     "name": "stdout",
     "output_type": "stream",
     "text": [
      "Los planetas más cercanos al sol son:\n",
      "Mercurio\n",
      "Venus\n",
      "Tierra\n",
      "Marte\n",
      "\n",
      "Los planetas más lejanos al sol son:\n",
      "Saturno\n",
      "Urano\n",
      "Neptuno\n"
     ]
    }
   ],
   "source": [
    "# Lista de planetas\n",
    "\n",
    "planetas = ['Mercurio','Venus','Tierra','Marte','Jupiter','Saturno','Urano','Neptuno']\n",
    "\n",
    "# Solicitamos el nombre de un planeta *Pista:  input()*\n",
    "\n",
    "nomPlaneta = input(\"Ingrese el planeta que quiera elegir(La primer letra debe ser mayúscula):\")\n",
    "\n",
    "# Busca el planeta en la lista (Puedes utilizar index)\n",
    "\n",
    "indPlanetas = planetas.index(nomPlaneta)\n",
    "\n",
    "# Muestra los planetas más cercanos al sol\n",
    "\n",
    "print(\"Los planetas más cercanos al sol son:\")\n",
    "for i in range (0,indPlanetas):\n",
    "    print(planetas[i])\n",
    "    \n",
    "\n",
    "print(\"\")\n",
    "\n",
    "# Muestra los planetas más lejanos al sol\n",
    "\n",
    "print(\"Los planetas más lejanos al sol son:\")\n",
    "\n",
    "for i in range (indPlanetas,7):\n",
    "    print(planetas[i+1])\n",
    "\n"
   ]
  }
 ],
 "metadata": {
  "interpreter": {
   "hash": "aee8b7b246df8f9039afb4144a1f6fd8d2ca17a180786b69acc140d282b71a49"
  },
  "kernelspec": {
   "display_name": "Python 3.10.2 64-bit",
   "language": "python",
   "name": "python3"
  },
  "language_info": {
   "codemirror_mode": {
    "name": "ipython",
    "version": 3
   },
   "file_extension": ".py",
   "mimetype": "text/x-python",
   "name": "python",
   "nbconvert_exporter": "python",
   "pygments_lexer": "ipython3",
   "version": "3.10.2"
  },
  "orig_nbformat": 4
 },
 "nbformat": 4,
 "nbformat_minor": 2
}

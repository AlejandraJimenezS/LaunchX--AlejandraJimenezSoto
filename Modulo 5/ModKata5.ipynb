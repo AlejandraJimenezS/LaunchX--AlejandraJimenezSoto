{
 "cells": [
  {
   "cell_type": "code",
   "execution_count": 10,
   "metadata": {},
   "outputs": [
    {
     "name": "stdout",
     "output_type": "stream",
     "text": [
      "La distancia entre los planetas es de 628949330 kilometros\n",
      "La distancia entre los planetas es de 390577533.93 millas\n"
     ]
    }
   ],
   "source": [
    "# Crear variables para almacenar las dos distancias\n",
    "# ¡Asegúrate de quitar las comas!\n",
    "\n",
    "distTierra = 149597870\n",
    "distJupiter = 778547200\n",
    "\n",
    "# Calcular la distancia entre planetas\n",
    "\n",
    "distPlanetas = distJupiter - distTierra\n",
    "\n",
    "print(f\"La distancia entre los planetas es de {distPlanetas} kilometros\")\n",
    "print(f\"La distancia entre los planetas es de {distPlanetas*0.621} millas\")"
   ]
  },
  {
   "cell_type": "code",
   "execution_count": 13,
   "metadata": {},
   "outputs": [
    {
     "name": "stdout",
     "output_type": "stream",
     "text": [
      "La distancia es 170000000 kilometros\n",
      "La distancia es 105570000.0 millas\n"
     ]
    }
   ],
   "source": [
    "#Almacenar las entradas del usuario\n",
    "#Pista: variable = input(\"¿Cuál es tu nombre?\")\n",
    "\n",
    "distMercurio = input(\"¿Cuál es la distancia de Mercurio?\") #57900000 km\n",
    "distMarte = input(\"¿Cuál es la distancia de Marte?\") #227900000 km\n",
    "\n",
    "#print(distMercurio)\n",
    "#print(distMarte)\n",
    "\n",
    "#Convierte las cadenas de ambos planetas a números enteros\n",
    "distMercurio = int(distMercurio)\n",
    "distMarte = int(distMarte)\n",
    "\n",
    "# Realizar el cálculo y determinar el valor absoluto\n",
    "\n",
    "distPlanetas = distMercurio - distMarte\n",
    "print(f\"La distancia es {abs(distPlanetas)} kilometros\")\n",
    "\n",
    "# Convertir de KM a Millas\n",
    "\n",
    "print(f\"La distancia es {abs(distPlanetas*0.621)} millas\")"
   ]
  }
 ],
 "metadata": {
  "interpreter": {
   "hash": "aee8b7b246df8f9039afb4144a1f6fd8d2ca17a180786b69acc140d282b71a49"
  },
  "kernelspec": {
   "display_name": "Python 3.10.2 64-bit",
   "language": "python",
   "name": "python3"
  },
  "language_info": {
   "codemirror_mode": {
    "name": "ipython",
    "version": 3
   },
   "file_extension": ".py",
   "mimetype": "text/x-python",
   "name": "python",
   "nbconvert_exporter": "python",
   "pygments_lexer": "ipython3",
   "version": "3.10.2"
  },
  "orig_nbformat": 4
 },
 "nbformat": 4,
 "nbformat_minor": 2
}

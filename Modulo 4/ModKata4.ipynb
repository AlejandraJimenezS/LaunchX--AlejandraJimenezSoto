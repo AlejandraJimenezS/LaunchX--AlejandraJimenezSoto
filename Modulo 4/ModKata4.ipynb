{
 "cells": [
  {
   "cell_type": "code",
   "execution_count": 12,
   "metadata": {},
   "outputs": [
    {
     "name": "stdout",
     "output_type": "stream",
     "text": [
      "\n",
      "On average, the Moon moves 4cm away from the Earth every year\n",
      "The highest daylight temperature of the Moon is 127 C.\n",
      "\n",
      "On average, the Moon moves 4cm away from the Earth every year\n",
      "The highest daylight temperature of the Moon is 127 Celsius.\n"
     ]
    }
   ],
   "source": [
    "texto = \"\"\"Interesting facts about the Moon. The Moon is Earth's only satellite. There are several interesting facts about the Moon and how it affects life here on Earth. \n",
    "On average, the Moon moves 4cm away from the Earth every year. This yearly drift is not significant enough to cause immediate effects on Earth. The highest daylight temperature of the Moon is 127 C.\"\"\"\n",
    "\n",
    "# Añade el código necesario\n",
    "\n",
    "textoDiv = texto.split('. ')\n",
    "textoDiv\n",
    "\n",
    "# Define las palabras pista: average, temperature y distance suenan bien (Distance no existe en el texto)\n",
    "\n",
    "palabrasClave = [\"average\",\"temperature\",\"distance\"]\n",
    "\n",
    "# Ciclo for para recorrer la cadena (iterTexto=iterador en el texto)\n",
    "\n",
    "for iterTexto in textoDiv:\n",
    "    for iterPalClave in palabrasClave:\n",
    "        if iterPalClave in iterTexto:\n",
    "            print(iterTexto)\n",
    "            break\n",
    "    \n",
    "# Ciclo para cambiar C a Celsius\n",
    "\n",
    "for iterTexto in textoDiv:\n",
    "    for iterPalClave in palabrasClave:\n",
    "        if iterPalClave in iterTexto:\n",
    "            print(iterTexto.replace('C','Celsius'))\n",
    "            break\n"
   ]
  },
  {
   "cell_type": "code",
   "execution_count": 2,
   "metadata": {},
   "outputs": [
    {
     "ename": "AttributeError",
     "evalue": "'str' object has no attribute 'titulo'",
     "output_type": "error",
     "traceback": [
      "\u001b[0;31m---------------------------------------------------------------------------\u001b[0m",
      "\u001b[0;31mAttributeError\u001b[0m                            Traceback (most recent call last)",
      "\u001b[1;32m/Users/andreasoto/Documents/LaunchX Visual Studio/Modulo 4/ModKata4.ipynb Cell 2'\u001b[0m in \u001b[0;36m<module>\u001b[0;34m\u001b[0m\n\u001b[1;32m     <a href='vscode-notebook-cell:/Users/andreasoto/Documents/LaunchX%20Visual%20Studio/Modulo%204/ModKata4.ipynb#ch0000001?line=12'>13</a>\u001b[0m hechos \u001b[39m=\u001b[39m \u001b[39mf\u001b[39m\u001b[39m\"\"\"\u001b[39m\u001b[39m{\u001b[39;00m\u001b[39m'\u001b[39m\u001b[39m-\u001b[39m\u001b[39m'\u001b[39m\u001b[39m*\u001b[39m\u001b[39m80\u001b[39m\u001b[39m}\u001b[39;00m\u001b[39m \u001b[39m\n\u001b[1;32m     <a href='vscode-notebook-cell:/Users/andreasoto/Documents/LaunchX%20Visual%20Studio/Modulo%204/ModKata4.ipynb#ch0000001?line=13'>14</a>\u001b[0m \u001b[39mNombre del planeta: \u001b[39m\u001b[39m{\u001b[39;00mplanet\u001b[39m}\u001b[39;00m\u001b[39m \u001b[39m\n\u001b[1;32m     <a href='vscode-notebook-cell:/Users/andreasoto/Documents/LaunchX%20Visual%20Studio/Modulo%204/ModKata4.ipynb#ch0000001?line=14'>15</a>\u001b[0m \u001b[39mGravedad en \u001b[39m\u001b[39m{\u001b[39;00mname\u001b[39m}\u001b[39;00m\u001b[39m: \u001b[39m\u001b[39m{\u001b[39;00mgravity \u001b[39m*\u001b[39m \u001b[39m1000\u001b[39m\u001b[39m}\u001b[39;00m\u001b[39m m/s2 \u001b[39m\n\u001b[1;32m     <a href='vscode-notebook-cell:/Users/andreasoto/Documents/LaunchX%20Visual%20Studio/Modulo%204/ModKata4.ipynb#ch0000001?line=15'>16</a>\u001b[0m \u001b[39m\"\"\"\u001b[39m\n\u001b[1;32m     <a href='vscode-notebook-cell:/Users/andreasoto/Documents/LaunchX%20Visual%20Studio/Modulo%204/ModKata4.ipynb#ch0000001?line=17'>18</a>\u001b[0m \u001b[39m# Unión de ambas cadenas\u001b[39;00m\n\u001b[0;32m---> <a href='vscode-notebook-cell:/Users/andreasoto/Documents/LaunchX%20Visual%20Studio/Modulo%204/ModKata4.ipynb#ch0000001?line=19'>20</a>\u001b[0m template \u001b[39m=\u001b[39m \u001b[39mf\u001b[39m\u001b[39m\"\"\"\u001b[39m\u001b[39m{\u001b[39;00mtitulo\u001b[39m.\u001b[39mtitulo()\u001b[39m}\u001b[39;00m\u001b[39m \u001b[39m\n\u001b[1;32m     <a href='vscode-notebook-cell:/Users/andreasoto/Documents/LaunchX%20Visual%20Studio/Modulo%204/ModKata4.ipynb#ch0000001?line=20'>21</a>\u001b[0m \u001b[39m{\u001b[39;00mhechos\u001b[39m}\u001b[39;00m\u001b[39m \u001b[39m\n\u001b[1;32m     <a href='vscode-notebook-cell:/Users/andreasoto/Documents/LaunchX%20Visual%20Studio/Modulo%204/ModKata4.ipynb#ch0000001?line=21'>22</a>\u001b[0m \u001b[39m\"\"\"\u001b[39m \n\u001b[1;32m     <a href='vscode-notebook-cell:/Users/andreasoto/Documents/LaunchX%20Visual%20Studio/Modulo%204/ModKata4.ipynb#ch0000001?line=22'>23</a>\u001b[0m \u001b[39mprint\u001b[39m(hechos)\n\u001b[1;32m     <a href='vscode-notebook-cell:/Users/andreasoto/Documents/LaunchX%20Visual%20Studio/Modulo%204/ModKata4.ipynb#ch0000001?line=24'>25</a>\u001b[0m \u001b[39m# Nuevos datos muestra\u001b[39;00m\n",
      "\u001b[0;31mAttributeError\u001b[0m: 'str' object has no attribute 'titulo'"
     ]
    }
   ],
   "source": [
    "# Datos con los que vas a trabajar\n",
    "\n",
    "name = \"Moon\"\n",
    "gravity = 0.00162 # in kms\n",
    "planet = \"Earth\"\n",
    "\n",
    "# Creamos el título\n",
    "\n",
    "titulo = f'datos de gravedad sobre {name}'\n",
    "\n",
    "# Creamos la plantilla\n",
    "\n",
    "hechos = f\"\"\"{'-'*80} \n",
    "Nombre del planeta: {planet} \n",
    "Gravedad en {name}: {gravity * 1000} m/s2 \n",
    "\"\"\"\n",
    "\n",
    "# Unión de ambas cadenas\n",
    "\n",
    "template = f\"\"\"{titulo.titulo()} \n",
    "{hechos} \n",
    "\"\"\" \n",
    "print(hechos)\n",
    "\n",
    "# Nuevos datos muestra\n",
    "\n",
    "planet = 'Marte '\n",
    "gravity  = 0.00143\n",
    "name = 'Ganímedes'\n",
    "\n",
    "# Comprobamos la plantilla\n",
    "\n",
    "print(hechos)\n",
    "\n",
    "new_template = \"\"\"\n",
    "Datos de Gravedad sobre: {name}\n",
    "-------------------------------------------------------------------------------\n",
    "Nombre del planeta: {planet}\n",
    "Gravedad en {name}: {gravity} m/s2\n",
    "\"\"\"\n",
    "print(new_template.format(name=name, planet=planet, gravity=gravity))\n",
    "\n",
    "# Pista: print(nueva_plantilla.format(variables))\n",
    "print(new_template.format(name=name, planet=planet, gravity=gravity*1000))"
   ]
  }
 ],
 "metadata": {
  "interpreter": {
   "hash": "aee8b7b246df8f9039afb4144a1f6fd8d2ca17a180786b69acc140d282b71a49"
  },
  "kernelspec": {
   "display_name": "Python 3.10.2 64-bit",
   "language": "python",
   "name": "python3"
  },
  "language_info": {
   "codemirror_mode": {
    "name": "ipython",
    "version": 3
   },
   "file_extension": ".py",
   "mimetype": "text/x-python",
   "name": "python",
   "nbconvert_exporter": "python",
   "pygments_lexer": "ipython3",
   "version": "3.10.2"
  },
  "orig_nbformat": 4
 },
 "nbformat": 4,
 "nbformat_minor": 2
}

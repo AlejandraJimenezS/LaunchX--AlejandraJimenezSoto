{
 "cells": [
  {
   "cell_type": "code",
   "execution_count": 2,
   "metadata": {},
   "outputs": [
    {
     "name": "stdout",
     "output_type": "stream",
     "text": [
      "Todo en orden. El asteroide va a una velocidad de 11 km/s\n"
     ]
    }
   ],
   "source": [
    "import random\n",
    "\n",
    "# Añadir el código necesario para crear una variable que guarde la velocidad del asteroide.\n",
    "velAst = random.randint(0, 50)\n",
    "\n",
    "# Escribe una expresión de prueba para calcular si necesita una advertencia.\n",
    "\n",
    "# Agregue las instrucciones que se ejecutarán si la expresión de prueba es true o false.\n",
    "if velAst >= 25:\n",
    "    print(\"Advertencia: El asteroide se acerca a la Tierra. Va a una velocidad de %s km/s\" %(velAst))\n",
    "else:\n",
    "    print(\"Todo en orden. El asteroide va a una velocidad de %d km/s\" %(velAst))"
   ]
  },
  {
   "cell_type": "code",
   "execution_count": 3,
   "metadata": {},
   "outputs": [
    {
     "name": "stdout",
     "output_type": "stream",
     "text": [
      "Sin asteroide en el cielo.\n"
     ]
    }
   ],
   "source": [
    "# Agrega el código para crear una variable para un asteroide que viaja a 19 km/s\n",
    "viajAst = 19\n",
    "# Escribe varias expresiones de prueba para determinar si puedes ver el rayo de luz desde la tierra\n",
    "\n",
    "# Agrega las instrucciones que se ejecutarán si las expresiones de prueba son True o False\n",
    "if viajAst > 20:\n",
    "    print(\"Aparecera un asteroide en el cielo.\")\n",
    "elif viajAst >= 20:\n",
    "    print(\"Aparecera un asteroide en el cielo\")\n",
    "else:\n",
    "    print(\"Sin asteroide en el cielo.\")\n",
    "\n"
   ]
  },
  {
   "cell_type": "code",
   "execution_count": 22,
   "metadata": {},
   "outputs": [
    {
     "name": "stdout",
     "output_type": "stream",
     "text": [
      "No existe riesgo\n"
     ]
    }
   ],
   "source": [
    "# Agrega el código para crear nuevas variables para la velocidad y el tamaño del asteroide\n",
    "\n",
    "# Para probar el código, prueba con varias velocidades y tamaños\n",
    "\n",
    "# Escribe varias expresiones de prueba o combinaciones de expresiones de prueba para determinar qué mensaje se debe enviar a Tierra.\n",
    "\n",
    "dimAst =  24\n",
    "velAst = 19\n",
    "\n",
    "if dimAst > 25 and velAst > 25:\n",
    "    print(\"El asteroide causará mucho daño\")\n",
    "elif velAst >= 20:\n",
    "    print(\"Se podrá ver una luz en el cielo\")\n",
    "else:\n",
    "    print(\"No existe riesgo\")"
   ]
  }
 ],
 "metadata": {
  "interpreter": {
   "hash": "aee8b7b246df8f9039afb4144a1f6fd8d2ca17a180786b69acc140d282b71a49"
  },
  "kernelspec": {
   "display_name": "Python 3.10.2 64-bit",
   "language": "python",
   "name": "python3"
  },
  "language_info": {
   "codemirror_mode": {
    "name": "ipython",
    "version": 3
   },
   "file_extension": ".py",
   "mimetype": "text/x-python",
   "name": "python",
   "nbconvert_exporter": "python",
   "pygments_lexer": "ipython3",
   "version": "3.10.2"
  },
  "orig_nbformat": 4
 },
 "nbformat": 4,
 "nbformat_minor": 2
}
